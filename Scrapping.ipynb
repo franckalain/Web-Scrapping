{
  "nbformat": 4,
  "nbformat_minor": 0,
  "metadata": {
    "colab": {
      "name": "Scrapping.ipynb",
      "version": "0.3.2",
      "provenance": [],
      "collapsed_sections": [],
      "include_colab_link": true
    },
    "kernelspec": {
      "name": "python3",
      "display_name": "Python 3"
    }
  },
  "cells": [
    {
      "cell_type": "markdown",
      "metadata": {
        "id": "view-in-github",
        "colab_type": "text"
      },
      "source": [
        "<a href=\"https://colab.research.google.com/github/franckalain/Web-Scrapping/blob/master/Scrapping.ipynb\" target=\"_parent\"><img src=\"https://colab.research.google.com/assets/colab-badge.svg\" alt=\"Open In Colab\"/></a>"
      ]
    },
    {
      "cell_type": "code",
      "metadata": {
        "id": "czVnUZ3fNex_",
        "colab_type": "code",
        "colab": {}
      },
      "source": [
        "import requests"
      ],
      "execution_count": 0,
      "outputs": []
    },
    {
      "cell_type": "code",
      "metadata": {
        "id": "L5GcgSmtNwcv",
        "colab_type": "code",
        "outputId": "c80037dd-94e2-400d-cb40-9bacd42749ea",
        "colab": {
          "base_uri": "https://localhost:8080/",
          "height": 34
        }
      },
      "source": [
        "response = requests.get('https://raw.githubusercontent.com/franckalain/Web-Scrapping/master/example.html')\n",
        "\n",
        "content = response.content\n",
        "\n",
        "print(content)"
      ],
      "execution_count": 0,
      "outputs": [
        {
          "output_type": "stream",
          "text": [
            "b'\\n<!DOCTYPE html> \\n<html> \\n  <head><title>Titre de la page</title></head> \\n<body>\\n  \\n  <p>cecci est un paragraphe</p>\\n \\n  \\n  </body> \\n</html>\\n'\n"
          ],
          "name": "stdout"
        }
      ]
    },
    {
      "cell_type": "markdown",
      "metadata": {
        "id": "kkXNjFx_P7Mb",
        "colab_type": "text"
      },
      "source": [
        "# **Recuperer des elements d'une page**"
      ]
    },
    {
      "cell_type": "code",
      "metadata": {
        "id": "kxU7kaHbN0z-",
        "colab_type": "code",
        "colab": {}
      },
      "source": [
        "# Librairie BeautyfulSoup du package bs4"
      ],
      "execution_count": 0,
      "outputs": []
    },
    {
      "cell_type": "code",
      "metadata": {
        "id": "qjMLb1IdQOhv",
        "colab_type": "code",
        "colab": {}
      },
      "source": [
        "from bs4 import BeautifulSoup"
      ],
      "execution_count": 0,
      "outputs": []
    },
    {
      "cell_type": "code",
      "metadata": {
        "id": "N2Mpl0fYQi9C",
        "colab_type": "code",
        "outputId": "bea63a0f-000e-4780-b3f3-939828620fe5",
        "colab": {
          "base_uri": "https://localhost:8080/",
          "height": 51
        }
      },
      "source": [
        "# On applique BeautifulSoup pour analyser le contenu precedemment telecharge\n",
        "\n",
        "parser = BeautifulSoup(content, 'html.parser')\n",
        "\n",
        "# Obtenir le tag body du document HTML\n",
        "\n",
        "body = parser.body\n",
        "\n",
        "# Obtenir le tag p du body\n",
        "\n",
        "p = body.p\n",
        "\n",
        "print(p)\n",
        "\n",
        "# Afficher le texte sans la balise p\n",
        "\n",
        "print(p.text)\n"
      ],
      "execution_count": 0,
      "outputs": [
        {
          "output_type": "stream",
          "text": [
            "<p>cecci est un paragraphe</p>\n",
            "cecci est un paragraphe\n"
          ],
          "name": "stdout"
        }
      ]
    },
    {
      "cell_type": "markdown",
      "metadata": {
        "id": "H49og9F9UDMe",
        "colab_type": "text"
      },
      "source": [
        "# **Recuperer le titre**"
      ]
    },
    {
      "cell_type": "code",
      "metadata": {
        "id": "FXWI48J6R2S7",
        "colab_type": "code",
        "outputId": "2b0572bd-c3f8-4b32-ac9f-ac36b703a58e",
        "colab": {
          "base_uri": "https://localhost:8080/",
          "height": 51
        }
      },
      "source": [
        "head = parser.head\n",
        "\n",
        "title = head.title\n",
        "\n",
        "print(title)\n",
        "\n",
        "print(title.text)"
      ],
      "execution_count": 0,
      "outputs": [
        {
          "output_type": "stream",
          "text": [
            "<title>Titre de la page</title>\n",
            "Titre de la page\n"
          ],
          "name": "stdout"
        }
      ]
    },
    {
      "cell_type": "markdown",
      "metadata": {
        "id": "FffRJEwoUKMN",
        "colab_type": "text"
      },
      "source": [
        "# **Utiliser find All**"
      ]
    },
    {
      "cell_type": "code",
      "metadata": {
        "id": "UvYAArbqTD2e",
        "colab_type": "code",
        "colab": {}
      },
      "source": [
        "from bs4 import BeautifulSoup"
      ],
      "execution_count": 0,
      "outputs": []
    },
    {
      "cell_type": "code",
      "metadata": {
        "id": "hM9dmUYEUmZU",
        "colab_type": "code",
        "colab": {}
      },
      "source": [
        "parser = BeautifulSoup(content, 'html.parser')"
      ],
      "execution_count": 0,
      "outputs": []
    },
    {
      "cell_type": "code",
      "metadata": {
        "id": "Za-Xb6j5UxjC",
        "colab_type": "code",
        "outputId": "68796b98-4823-4f02-fe35-9ff7847765f5",
        "colab": {
          "base_uri": "https://localhost:8080/",
          "height": 85
        }
      },
      "source": [
        "# Obtenir tous les elements de la balise body\n",
        "body = parser.find_all('body')\n",
        "\n",
        "print(body)"
      ],
      "execution_count": 0,
      "outputs": [
        {
          "output_type": "stream",
          "text": [
            "[<body>\n",
            "<p>cecci est un paragraphe</p>\n",
            "<p>cecci est un paragraphe2</p>\n",
            "</body>]\n"
          ],
          "name": "stdout"
        }
      ]
    },
    {
      "cell_type": "code",
      "metadata": {
        "id": "kk5KCHGuU2VA",
        "colab_type": "code",
        "outputId": "22c64344-bb22-494a-eda2-20427cf671ea",
        "colab": {
          "base_uri": "https://localhost:8080/",
          "height": 34
        }
      },
      "source": [
        "# On recupere les elements de la balise p dans la liste body\n",
        "\n",
        "p = body[0].find_all('p') # body[0] car on recupere le premier element de la liste\n",
        "\n",
        "\n",
        "print(p[0].text)"
      ],
      "execution_count": 0,
      "outputs": [
        {
          "output_type": "stream",
          "text": [
            "cecci est un paragraphe\n"
          ],
          "name": "stdout"
        }
      ]
    },
    {
      "cell_type": "code",
      "metadata": {
        "id": "rofE8Bm3V4c1",
        "colab_type": "code",
        "outputId": "2d528f3b-6757-48ff-be63-7dcca4ab5491",
        "colab": {
          "base_uri": "https://localhost:8080/",
          "height": 34
        }
      },
      "source": [
        "# recuperer les elements de la balise head\n",
        "\n",
        "head = parser.find_all('head')\n",
        "\n",
        "title = head[0].find_all('title')\n",
        "\n",
        "print(title[0].text)"
      ],
      "execution_count": 0,
      "outputs": [
        {
          "output_type": "stream",
          "text": [
            "Titre de la page\n"
          ],
          "name": "stdout"
        }
      ]
    },
    {
      "cell_type": "markdown",
      "metadata": {
        "id": "2SVZpuGkYdDP",
        "colab_type": "text"
      },
      "source": [
        "# **Elements correspondant aux IDs**"
      ]
    },
    {
      "cell_type": "code",
      "metadata": {
        "id": "RSmMV-_YW4-9",
        "colab_type": "code",
        "outputId": "21f43f44-75a2-4239-d46a-079b616a4c4d",
        "colab": {
          "base_uri": "https://localhost:8080/",
          "height": 34
        }
      },
      "source": [
        "response = requests.get('https://raw.githubusercontent.com/franckalain/Web-Scrapping/master/exemple2.html')\n",
        "\n",
        "content = response.content\n",
        "\n",
        "parser = BeautifulSoup(content, 'html.parser')\n",
        "\n",
        "# Recuperer l'ID souhaite\n",
        "\n",
        "first_paragraph = parser.find_all('p', id = 'first')[0]\n",
        "\n",
        "second_paragraph = parser.find_all('p', id = 'second')[0]\n",
        "\n",
        "print(first_paragraph.text)"
      ],
      "execution_count": 0,
      "outputs": [
        {
          "output_type": "stream",
          "text": [
            "cecci est un paragraphe\n"
          ],
          "name": "stdout"
        }
      ]
    },
    {
      "cell_type": "markdown",
      "metadata": {
        "id": "VAiPfYq6cA_J",
        "colab_type": "text"
      },
      "source": [
        "# **Elements correspondant aux class**"
      ]
    },
    {
      "cell_type": "code",
      "metadata": {
        "id": "3h2lkvMmY2rx",
        "colab_type": "code",
        "outputId": "20bac115-b20c-48fc-85a2-8a7f3e514e04",
        "colab": {
          "base_uri": "https://localhost:8080/",
          "height": 51
        }
      },
      "source": [
        "response = requests.get('https://raw.githubusercontent.com/franckalain/Web-Scrapping/master/exemple3.html')\n",
        "\n",
        "content = response.content\n",
        "\n",
        "parser = BeautifulSoup(content, 'html.parser')\n",
        "\n",
        "# Recuperer la class souhaite\n",
        "\n",
        "first_paragraph = parser.find_all('p', class_=\"class1\")[0]\n",
        "second_paragraph = parser.find_all('p', class_=\"class1\")[1]\n",
        "\n",
        "print(first_paragraph.text)\n",
        "print(second_paragraph.text)"
      ],
      "execution_count": 0,
      "outputs": [
        {
          "output_type": "stream",
          "text": [
            "1er paragraphe classe 1\n",
            "second paragraphe classe 2\n"
          ],
          "name": "stdout"
        }
      ]
    },
    {
      "cell_type": "code",
      "metadata": {
        "id": "U63lWZ-4cO-V",
        "colab_type": "code",
        "colab": {}
      },
      "source": [
        ""
      ],
      "execution_count": 0,
      "outputs": []
    },
    {
      "cell_type": "code",
      "metadata": {
        "id": "FlU2HkZhe_47",
        "colab_type": "code",
        "colab": {}
      },
      "source": [
        ""
      ],
      "execution_count": 0,
      "outputs": []
    },
    {
      "cell_type": "code",
      "metadata": {
        "id": "TrcANgc8iwAS",
        "colab_type": "code",
        "colab": {
          "base_uri": "https://localhost:8080/",
          "height": 54
        },
        "outputId": "ddde14e0-c23e-486f-9145-69ae5461aa07"
      },
      "source": [
        "from requests import get\n",
        "\n",
        "url = 'https://www.imdb.com/search/title?release_date=2017&sort=num_votes,desc&page=1'\n",
        "response = get(url)\n",
        "#print(response.text[:500])\n",
        "\n",
        "from bs4 import BeautifulSoup\n",
        "html_soup = BeautifulSoup(response.text, 'html.parser')\n",
        "type(html_soup)\n",
        "\n",
        "movie_containers = html_soup.find_all('div', class_='lister-item mode-advanced')\n",
        "print(type(movie_containers))\n",
        "print(len(movie_containers))"
      ],
      "execution_count": 34,
      "outputs": [
        {
          "output_type": "stream",
          "text": [
            "<class 'bs4.element.ResultSet'>\n",
            "50\n"
          ],
          "name": "stdout"
        }
      ]
    },
    {
      "cell_type": "code",
      "metadata": {
        "id": "RtwD_IngVJY5",
        "colab_type": "code",
        "colab": {
          "base_uri": "https://localhost:8080/",
          "height": 1506
        },
        "outputId": "018040ee-bed8-4a57-d44f-0f20ed4a4c22"
      },
      "source": [
        "first_movie = movie_containers[0]\n",
        "first_movie"
      ],
      "execution_count": 35,
      "outputs": [
        {
          "output_type": "execute_result",
          "data": {
            "text/plain": [
              "<div class=\"lister-item mode-advanced\">\n",
              "<div class=\"lister-top-right\">\n",
              "<div class=\"ribbonize\" data-caller=\"filmosearch\" data-tconst=\"tt3315342\"></div>\n",
              "</div>\n",
              "<div class=\"lister-item-image float-left\">\n",
              "<a href=\"/title/tt3315342/\"> <img alt=\"Logan\" class=\"loadlate\" data-tconst=\"tt3315342\" height=\"98\" loadlate=\"https://m.media-amazon.com/images/M/MV5BYzc5MTU4N2EtYTkyMi00NjdhLTg3NWEtMTY4OTEyMzJhZTAzXkEyXkFqcGdeQXVyNjc1NTYyMjg@._V1_UX67_CR0,0,67,98_AL_.jpg\" src=\"https://m.media-amazon.com/images/G/01/imdb/images/nopicture/large/film-184890147._CB470041630_.png\" width=\"67\"/>\n",
              "</a> </div>\n",
              "<div class=\"lister-item-content\">\n",
              "<h3 class=\"lister-item-header\">\n",
              "<span class=\"lister-item-index unbold text-primary\">1.</span>\n",
              "<a href=\"/title/tt3315342/\">Logan</a>\n",
              "<span class=\"lister-item-year text-muted unbold\">(2017)</span>\n",
              "</h3>\n",
              "<p class=\"text-muted \">\n",
              "<span class=\"certificate\">R</span>\n",
              "<span class=\"ghost\">|</span>\n",
              "<span class=\"runtime\">137 min</span>\n",
              "<span class=\"ghost\">|</span>\n",
              "<span class=\"genre\">\n",
              "Action, Drama, Sci-Fi            </span>\n",
              "</p>\n",
              "<div class=\"ratings-bar\">\n",
              "<div class=\"inline-block ratings-imdb-rating\" data-value=\"8.1\" name=\"ir\">\n",
              "<span class=\"global-sprite rating-star imdb-rating\"></span>\n",
              "<strong>8.1</strong>\n",
              "</div>\n",
              "<div class=\"inline-block ratings-user-rating\">\n",
              "<span class=\"userRatingValue\" data-tconst=\"tt3315342\" id=\"urv_tt3315342\">\n",
              "<span class=\"global-sprite rating-star no-rating\"></span>\n",
              "<span class=\"rate\" data-no-rating=\"Rate this\" data-value=\"0\" name=\"ur\">Rate this</span>\n",
              "</span>\n",
              "<div class=\"starBarWidget\" id=\"sb_tt3315342\">\n",
              "<div class=\"rating rating-list\" data-auth=\"\" data-ga-identifier=\"\" data-starbar-class=\"rating-list\" data-user=\"\" id=\"tt3315342|imdb|8.1|8.1|||advsearch|title\" itemprop=\"aggregateRating\" itemscope=\"\" itemtype=\"http://schema.org/AggregateRating\" title=\"Users rated this 8.1/10 (560,227 votes) - click stars to rate\">\n",
              "<meta content=\"8.1\" itemprop=\"ratingValue\"/>\n",
              "<meta content=\"10\" itemprop=\"bestRating\"/>\n",
              "<meta content=\"560227\" itemprop=\"ratingCount\"/>\n",
              "<span class=\"rating-bg\"> </span>\n",
              "<span class=\"rating-imdb \" style=\"width: 113.4px\"> </span>\n",
              "<span class=\"rating-stars\">\n",
              "<a href=\"/register/login?why=vote\" rel=\"nofollow\" title=\"Register or login to rate this title\"><span>1</span></a>\n",
              "<a href=\"/register/login?why=vote\" rel=\"nofollow\" title=\"Register or login to rate this title\"><span>2</span></a>\n",
              "<a href=\"/register/login?why=vote\" rel=\"nofollow\" title=\"Register or login to rate this title\"><span>3</span></a>\n",
              "<a href=\"/register/login?why=vote\" rel=\"nofollow\" title=\"Register or login to rate this title\"><span>4</span></a>\n",
              "<a href=\"/register/login?why=vote\" rel=\"nofollow\" title=\"Register or login to rate this title\"><span>5</span></a>\n",
              "<a href=\"/register/login?why=vote\" rel=\"nofollow\" title=\"Register or login to rate this title\"><span>6</span></a>\n",
              "<a href=\"/register/login?why=vote\" rel=\"nofollow\" title=\"Register or login to rate this title\"><span>7</span></a>\n",
              "<a href=\"/register/login?why=vote\" rel=\"nofollow\" title=\"Register or login to rate this title\"><span>8</span></a>\n",
              "<a href=\"/register/login?why=vote\" rel=\"nofollow\" title=\"Register or login to rate this title\"><span>9</span></a>\n",
              "<a href=\"/register/login?why=vote\" rel=\"nofollow\" title=\"Register or login to rate this title\"><span>10</span></a>\n",
              "</span>\n",
              "<span class=\"rating-rating \"><span class=\"value\">8.1</span><span class=\"grey\">/</span><span class=\"grey\">10</span></span>\n",
              "<span class=\"rating-cancel \"><a href=\"/title/tt3315342/vote?v=X;k=\" rel=\"nofollow\" title=\"Delete\"><span>X</span></a></span>\n",
              " </div>\n",
              "</div>\n",
              "</div>\n",
              "<div class=\"inline-block ratings-metascore\">\n",
              "<span class=\"metascore favorable\">77        </span>\n",
              "        Metascore\n",
              "            </div>\n",
              "</div>\n",
              "<p class=\"text-muted\">\n",
              "    In a future where mutants are nearly extinct, an elderly and weary Logan leads a quiet life. But when Laura, a mutant child pursued by scientists, comes to him for help, he must get her to safety.</p>\n",
              "<p class=\"\">\n",
              "    Director:\n",
              "<a href=\"/name/nm0003506/\">James Mangold</a>\n",
              "<span class=\"ghost\">|</span> \n",
              "    Stars:\n",
              "<a href=\"/name/nm0413168/\">Hugh Jackman</a>, \n",
              "<a href=\"/name/nm0001772/\">Patrick Stewart</a>, \n",
              "<a href=\"/name/nm6748436/\">Dafne Keen</a>, \n",
              "<a href=\"/name/nm2933542/\">Boyd Holbrook</a>\n",
              "</p>\n",
              "<p class=\"sort-num_votes-visible\">\n",
              "<span class=\"text-muted\">Votes:</span>\n",
              "<span data-value=\"560227\" name=\"nv\">560,227</span>\n",
              "<span class=\"ghost\">|</span> <span class=\"text-muted\">Gross:</span>\n",
              "<span data-value=\"226,277,068\" name=\"nv\">$226.28M</span>\n",
              "</p>\n",
              "</div>\n",
              "</div>"
            ]
          },
          "metadata": {
            "tags": []
          },
          "execution_count": 35
        }
      ]
    },
    {
      "cell_type": "code",
      "metadata": {
        "id": "U8b0t2VEWiv8",
        "colab_type": "code",
        "colab": {
          "base_uri": "https://localhost:8080/",
          "height": 72
        },
        "outputId": "5867f083-6e12-4e83-a250-8cf5e2380d3f"
      },
      "source": [
        "first_movie.div"
      ],
      "execution_count": 36,
      "outputs": [
        {
          "output_type": "execute_result",
          "data": {
            "text/plain": [
              "<div class=\"lister-top-right\">\n",
              "<div class=\"ribbonize\" data-caller=\"filmosearch\" data-tconst=\"tt3315342\"></div>\n",
              "</div>"
            ]
          },
          "metadata": {
            "tags": []
          },
          "execution_count": 36
        }
      ]
    },
    {
      "cell_type": "code",
      "metadata": {
        "id": "9fnLgVTrW1Yl",
        "colab_type": "code",
        "colab": {
          "base_uri": "https://localhost:8080/",
          "height": 35
        },
        "outputId": "afb821a5-055c-4550-ddcd-b14846b36348"
      },
      "source": [
        "first_name = first_movie.h3.a.text\n",
        "first_name"
      ],
      "execution_count": 37,
      "outputs": [
        {
          "output_type": "execute_result",
          "data": {
            "text/plain": [
              "'Logan'"
            ]
          },
          "metadata": {
            "tags": []
          },
          "execution_count": 37
        }
      ]
    },
    {
      "cell_type": "code",
      "metadata": {
        "id": "-QHRRNlAXQbI",
        "colab_type": "code",
        "colab": {
          "base_uri": "https://localhost:8080/",
          "height": 35
        },
        "outputId": "191c20d3-256c-4d27-dec6-749ed9843caf"
      },
      "source": [
        "first_year = first_movie.h3.find('span', class_='lister-item-year text-muted unbold')\n",
        "first_year.text"
      ],
      "execution_count": 38,
      "outputs": [
        {
          "output_type": "execute_result",
          "data": {
            "text/plain": [
              "'(2017)'"
            ]
          },
          "metadata": {
            "tags": []
          },
          "execution_count": 38
        }
      ]
    },
    {
      "cell_type": "code",
      "metadata": {
        "id": "s4e51GKdYsTA",
        "colab_type": "code",
        "colab": {
          "base_uri": "https://localhost:8080/",
          "height": 35
        },
        "outputId": "49a37279-739c-4f8b-8750-f643d619aa66"
      },
      "source": [
        "first_movie.strong"
      ],
      "execution_count": 39,
      "outputs": [
        {
          "output_type": "execute_result",
          "data": {
            "text/plain": [
              "<strong>8.1</strong>"
            ]
          },
          "metadata": {
            "tags": []
          },
          "execution_count": 39
        }
      ]
    },
    {
      "cell_type": "code",
      "metadata": {
        "id": "haDKiAl-Y6DH",
        "colab_type": "code",
        "colab": {
          "base_uri": "https://localhost:8080/",
          "height": 35
        },
        "outputId": "8de7c9ed-5351-45f4-d0bc-58bb093d97ab"
      },
      "source": [
        "first_imdb = float(first_movie.strong.text)\n",
        "first_imdb"
      ],
      "execution_count": 40,
      "outputs": [
        {
          "output_type": "execute_result",
          "data": {
            "text/plain": [
              "8.1"
            ]
          },
          "metadata": {
            "tags": []
          },
          "execution_count": 40
        }
      ]
    },
    {
      "cell_type": "code",
      "metadata": {
        "id": "EBBxA9FfZE60",
        "colab_type": "code",
        "colab": {
          "base_uri": "https://localhost:8080/",
          "height": 35
        },
        "outputId": "bdabaffa-23cb-41a4-9174-4805a6966680"
      },
      "source": [
        "first_metascore = first_movie.find('span', class_='metascore favorable')\n",
        "int(first_metascore.text)"
      ],
      "execution_count": 44,
      "outputs": [
        {
          "output_type": "execute_result",
          "data": {
            "text/plain": [
              "77"
            ]
          },
          "metadata": {
            "tags": []
          },
          "execution_count": 44
        }
      ]
    },
    {
      "cell_type": "code",
      "metadata": {
        "id": "ZJY0JINSe3sy",
        "colab_type": "code",
        "colab": {
          "base_uri": "https://localhost:8080/",
          "height": 35
        },
        "outputId": "b2fb0d6a-ec55-44e6-93b3-77e0e45b7d01"
      },
      "source": [
        "# Nombre de votes\n",
        "\n",
        "first_vote = first_movie.find('span', attrs= {'name':'nv'} )\n",
        "first_vote"
      ],
      "execution_count": 59,
      "outputs": [
        {
          "output_type": "execute_result",
          "data": {
            "text/plain": [
              "<span data-value=\"560227\" name=\"nv\">560,227</span>"
            ]
          },
          "metadata": {
            "tags": []
          },
          "execution_count": 59
        }
      ]
    },
    {
      "cell_type": "code",
      "metadata": {
        "id": "vVgFK0Ghfu46",
        "colab_type": "code",
        "colab": {
          "base_uri": "https://localhost:8080/",
          "height": 35
        },
        "outputId": "6a80df78-7038-4f8c-d1da-cc6e37e82622"
      },
      "source": [
        "first_vote = int(first_vote['data-value'])\n",
        "first_vote"
      ],
      "execution_count": 60,
      "outputs": [
        {
          "output_type": "execute_result",
          "data": {
            "text/plain": [
              "560227"
            ]
          },
          "metadata": {
            "tags": []
          },
          "execution_count": 60
        }
      ]
    },
    {
      "cell_type": "code",
      "metadata": {
        "id": "bdOiF92ygXfx",
        "colab_type": "code",
        "colab": {}
      },
      "source": [
        ""
      ],
      "execution_count": 0,
      "outputs": []
    },
    {
      "cell_type": "markdown",
      "metadata": {
        "id": "-hRBkQklh97K",
        "colab_type": "text"
      },
      "source": [
        "# **Script pour un seul film**"
      ]
    },
    {
      "cell_type": "code",
      "metadata": {
        "id": "l1T5sRXxiCwV",
        "colab_type": "code",
        "colab": {}
      },
      "source": [
        ""
      ],
      "execution_count": 0,
      "outputs": []
    },
    {
      "cell_type": "code",
      "metadata": {
        "id": "UqQcdp_eiVE7",
        "colab_type": "code",
        "colab": {
          "base_uri": "https://localhost:8080/",
          "height": 35
        },
        "outputId": "8a8b284c-b031-4dea-84b3-3e9c06248a5b"
      },
      "source": [
        "test_movie_metascore = movie_containers[8].find('div', class_='ratings-metascore')\n",
        "type(test_movie_metascore)"
      ],
      "execution_count": 91,
      "outputs": [
        {
          "output_type": "execute_result",
          "data": {
            "text/plain": [
              "bs4.element.Tag"
            ]
          },
          "metadata": {
            "tags": []
          },
          "execution_count": 91
        }
      ]
    },
    {
      "cell_type": "code",
      "metadata": {
        "id": "1T07yJf6jh7K",
        "colab_type": "code",
        "colab": {}
      },
      "source": [
        "names = []\n",
        "years = []\n",
        "imdb_ratings = []\n",
        "metascores = []\n",
        "votes = []\n",
        "\n",
        "\n",
        "for container in movie_containers:\n",
        "  if container.find('div', class_= 'ratings-metascore') is not None:\n",
        "    # le titre du film\n",
        "    name = container.h3.a.text\n",
        "    names.append(name)\n",
        "    \n",
        "    # l'annee du film\n",
        "    year = container.h3.find('span', class_='lister-item-year').text\n",
        "    years.append(year)\n",
        "    \n",
        "    # la note IMDB\n",
        "    imdb = float(container.strong.text)\n",
        "    imdb_ratings.append(imdb)\n",
        "    \n",
        "    # metascore\n",
        "    m_score = container.find('span', class_='metascore').text\n",
        "    metascores.append(int(m_score))\n",
        "    \n",
        "    # le nombre de vote\n",
        "    vote = container.find('span', attrs = {'name':'nv'})['data-value']\n",
        "    votes.append(int(vote))"
      ],
      "execution_count": 0,
      "outputs": []
    },
    {
      "cell_type": "code",
      "metadata": {
        "id": "Pyxw8r76mHUm",
        "colab_type": "code",
        "colab": {
          "base_uri": "https://localhost:8080/",
          "height": 35
        },
        "outputId": "982b19a5-70a3-4480-db39-31c18d07a412"
      },
      "source": [
        "print(len(names))"
      ],
      "execution_count": 89,
      "outputs": [
        {
          "output_type": "stream",
          "text": [
            "45\n"
          ],
          "name": "stdout"
        }
      ]
    },
    {
      "cell_type": "markdown",
      "metadata": {
        "id": "SPDbCY0mn3Q1",
        "colab_type": "text"
      },
      "source": [
        "# **Affichage en DataFrame avec Pandas**"
      ]
    },
    {
      "cell_type": "code",
      "metadata": {
        "id": "OzgYsJM_mu8i",
        "colab_type": "code",
        "colab": {}
      },
      "source": [
        "import pandas as pd\n",
        "\n",
        "data = pd.DataFrame(\n",
        "{\n",
        "    'movie': names,\n",
        "    'year': years,\n",
        "    'imdb': imdb_ratings,\n",
        "    'metascore': metascores,\n",
        "    'votes': votes\n",
        "})"
      ],
      "execution_count": 0,
      "outputs": []
    },
    {
      "cell_type": "code",
      "metadata": {
        "id": "V_ehGkiJp814",
        "colab_type": "code",
        "colab": {
          "base_uri": "https://localhost:8080/",
          "height": 1461
        },
        "outputId": "f4fde7d1-8c81-48db-9fc5-86b608f1fc39"
      },
      "source": [
        "data"
      ],
      "execution_count": 94,
      "outputs": [
        {
          "output_type": "execute_result",
          "data": {
            "text/html": [
              "<div>\n",
              "<style scoped>\n",
              "    .dataframe tbody tr th:only-of-type {\n",
              "        vertical-align: middle;\n",
              "    }\n",
              "\n",
              "    .dataframe tbody tr th {\n",
              "        vertical-align: top;\n",
              "    }\n",
              "\n",
              "    .dataframe thead th {\n",
              "        text-align: right;\n",
              "    }\n",
              "</style>\n",
              "<table border=\"1\" class=\"dataframe\">\n",
              "  <thead>\n",
              "    <tr style=\"text-align: right;\">\n",
              "      <th></th>\n",
              "      <th>movie</th>\n",
              "      <th>year</th>\n",
              "      <th>imdb</th>\n",
              "      <th>metascore</th>\n",
              "      <th>votes</th>\n",
              "    </tr>\n",
              "  </thead>\n",
              "  <tbody>\n",
              "    <tr>\n",
              "      <th>0</th>\n",
              "      <td>Logan</td>\n",
              "      <td>(2017)</td>\n",
              "      <td>8.1</td>\n",
              "      <td>77</td>\n",
              "      <td>560227</td>\n",
              "    </tr>\n",
              "    <tr>\n",
              "      <th>1</th>\n",
              "      <td>Wonder Woman</td>\n",
              "      <td>(2017)</td>\n",
              "      <td>7.5</td>\n",
              "      <td>76</td>\n",
              "      <td>487503</td>\n",
              "    </tr>\n",
              "    <tr>\n",
              "      <th>2</th>\n",
              "      <td>Thor: Ragnarok</td>\n",
              "      <td>(2017)</td>\n",
              "      <td>7.9</td>\n",
              "      <td>74</td>\n",
              "      <td>482921</td>\n",
              "    </tr>\n",
              "    <tr>\n",
              "      <th>3</th>\n",
              "      <td>Guardians of the Galaxy Vol. 2</td>\n",
              "      <td>(2017)</td>\n",
              "      <td>7.7</td>\n",
              "      <td>67</td>\n",
              "      <td>482874</td>\n",
              "    </tr>\n",
              "    <tr>\n",
              "      <th>4</th>\n",
              "      <td>Dunkirk</td>\n",
              "      <td>(2017)</td>\n",
              "      <td>7.9</td>\n",
              "      <td>94</td>\n",
              "      <td>466553</td>\n",
              "    </tr>\n",
              "    <tr>\n",
              "      <th>5</th>\n",
              "      <td>Star Wars: Episode VIII - The Last Jedi</td>\n",
              "      <td>(2017)</td>\n",
              "      <td>7.1</td>\n",
              "      <td>85</td>\n",
              "      <td>462874</td>\n",
              "    </tr>\n",
              "    <tr>\n",
              "      <th>6</th>\n",
              "      <td>Spider-Man: Homecoming</td>\n",
              "      <td>(2017)</td>\n",
              "      <td>7.5</td>\n",
              "      <td>73</td>\n",
              "      <td>426239</td>\n",
              "    </tr>\n",
              "    <tr>\n",
              "      <th>7</th>\n",
              "      <td>Get Out</td>\n",
              "      <td>(I) (2017)</td>\n",
              "      <td>7.7</td>\n",
              "      <td>84</td>\n",
              "      <td>400429</td>\n",
              "    </tr>\n",
              "    <tr>\n",
              "      <th>8</th>\n",
              "      <td>Blade Runner 2049</td>\n",
              "      <td>(2017)</td>\n",
              "      <td>8.0</td>\n",
              "      <td>81</td>\n",
              "      <td>376219</td>\n",
              "    </tr>\n",
              "    <tr>\n",
              "      <th>9</th>\n",
              "      <td>Baby Driver</td>\n",
              "      <td>(2017)</td>\n",
              "      <td>7.6</td>\n",
              "      <td>86</td>\n",
              "      <td>363930</td>\n",
              "    </tr>\n",
              "    <tr>\n",
              "      <th>10</th>\n",
              "      <td>It</td>\n",
              "      <td>(I) (2017)</td>\n",
              "      <td>7.4</td>\n",
              "      <td>69</td>\n",
              "      <td>359084</td>\n",
              "    </tr>\n",
              "    <tr>\n",
              "      <th>11</th>\n",
              "      <td>Three Billboards Outside Ebbing, Missouri</td>\n",
              "      <td>(2017)</td>\n",
              "      <td>8.2</td>\n",
              "      <td>88</td>\n",
              "      <td>344011</td>\n",
              "    </tr>\n",
              "    <tr>\n",
              "      <th>12</th>\n",
              "      <td>Justice League</td>\n",
              "      <td>(2017)</td>\n",
              "      <td>6.5</td>\n",
              "      <td>45</td>\n",
              "      <td>329116</td>\n",
              "    </tr>\n",
              "    <tr>\n",
              "      <th>13</th>\n",
              "      <td>The Shape of Water</td>\n",
              "      <td>(2017)</td>\n",
              "      <td>7.3</td>\n",
              "      <td>87</td>\n",
              "      <td>308080</td>\n",
              "    </tr>\n",
              "    <tr>\n",
              "      <th>14</th>\n",
              "      <td>John Wick: Chapter 2</td>\n",
              "      <td>(2017)</td>\n",
              "      <td>7.5</td>\n",
              "      <td>75</td>\n",
              "      <td>289973</td>\n",
              "    </tr>\n",
              "    <tr>\n",
              "      <th>15</th>\n",
              "      <td>Coco</td>\n",
              "      <td>(I) (2017)</td>\n",
              "      <td>8.4</td>\n",
              "      <td>81</td>\n",
              "      <td>277156</td>\n",
              "    </tr>\n",
              "    <tr>\n",
              "      <th>16</th>\n",
              "      <td>Jumanji: Welcome to the Jungle</td>\n",
              "      <td>(2017)</td>\n",
              "      <td>7.0</td>\n",
              "      <td>58</td>\n",
              "      <td>242718</td>\n",
              "    </tr>\n",
              "    <tr>\n",
              "      <th>17</th>\n",
              "      <td>Beauty and the Beast</td>\n",
              "      <td>(2017)</td>\n",
              "      <td>7.2</td>\n",
              "      <td>65</td>\n",
              "      <td>238308</td>\n",
              "    </tr>\n",
              "    <tr>\n",
              "      <th>18</th>\n",
              "      <td>Kong: Skull Island</td>\n",
              "      <td>(2017)</td>\n",
              "      <td>6.6</td>\n",
              "      <td>62</td>\n",
              "      <td>237688</td>\n",
              "    </tr>\n",
              "    <tr>\n",
              "      <th>19</th>\n",
              "      <td>Kingsman: The Golden Circle</td>\n",
              "      <td>(2017)</td>\n",
              "      <td>6.8</td>\n",
              "      <td>44</td>\n",
              "      <td>230776</td>\n",
              "    </tr>\n",
              "    <tr>\n",
              "      <th>20</th>\n",
              "      <td>Pirates of the Caribbean: Dead Men Tell No Tales</td>\n",
              "      <td>(2017)</td>\n",
              "      <td>6.6</td>\n",
              "      <td>39</td>\n",
              "      <td>228576</td>\n",
              "    </tr>\n",
              "    <tr>\n",
              "      <th>21</th>\n",
              "      <td>Alien: Covenant</td>\n",
              "      <td>(2017)</td>\n",
              "      <td>6.4</td>\n",
              "      <td>65</td>\n",
              "      <td>226900</td>\n",
              "    </tr>\n",
              "    <tr>\n",
              "      <th>22</th>\n",
              "      <td>War for the Planet of the Apes</td>\n",
              "      <td>(2017)</td>\n",
              "      <td>7.5</td>\n",
              "      <td>82</td>\n",
              "      <td>201929</td>\n",
              "    </tr>\n",
              "    <tr>\n",
              "      <th>23</th>\n",
              "      <td>The Greatest Showman</td>\n",
              "      <td>(2017)</td>\n",
              "      <td>7.6</td>\n",
              "      <td>48</td>\n",
              "      <td>199649</td>\n",
              "    </tr>\n",
              "    <tr>\n",
              "      <th>24</th>\n",
              "      <td>Life</td>\n",
              "      <td>(I) (2017)</td>\n",
              "      <td>6.6</td>\n",
              "      <td>54</td>\n",
              "      <td>182830</td>\n",
              "    </tr>\n",
              "    <tr>\n",
              "      <th>25</th>\n",
              "      <td>The Fate of the Furious</td>\n",
              "      <td>(2017)</td>\n",
              "      <td>6.7</td>\n",
              "      <td>56</td>\n",
              "      <td>179755</td>\n",
              "    </tr>\n",
              "    <tr>\n",
              "      <th>26</th>\n",
              "      <td>Murder on the Orient Express</td>\n",
              "      <td>(2017)</td>\n",
              "      <td>6.5</td>\n",
              "      <td>52</td>\n",
              "      <td>178596</td>\n",
              "    </tr>\n",
              "    <tr>\n",
              "      <th>27</th>\n",
              "      <td>Lady Bird</td>\n",
              "      <td>(2017)</td>\n",
              "      <td>7.4</td>\n",
              "      <td>94</td>\n",
              "      <td>177660</td>\n",
              "    </tr>\n",
              "    <tr>\n",
              "      <th>28</th>\n",
              "      <td>Ghost in the Shell</td>\n",
              "      <td>(2017)</td>\n",
              "      <td>6.4</td>\n",
              "      <td>52</td>\n",
              "      <td>176493</td>\n",
              "    </tr>\n",
              "    <tr>\n",
              "      <th>29</th>\n",
              "      <td>King Arthur: Legend of the Sword</td>\n",
              "      <td>(2017)</td>\n",
              "      <td>6.8</td>\n",
              "      <td>41</td>\n",
              "      <td>169045</td>\n",
              "    </tr>\n",
              "    <tr>\n",
              "      <th>30</th>\n",
              "      <td>Wind River</td>\n",
              "      <td>(2017)</td>\n",
              "      <td>7.7</td>\n",
              "      <td>73</td>\n",
              "      <td>168998</td>\n",
              "    </tr>\n",
              "    <tr>\n",
              "      <th>31</th>\n",
              "      <td>The Hitman's Bodyguard</td>\n",
              "      <td>(2017)</td>\n",
              "      <td>6.9</td>\n",
              "      <td>47</td>\n",
              "      <td>161760</td>\n",
              "    </tr>\n",
              "    <tr>\n",
              "      <th>32</th>\n",
              "      <td>Mother!</td>\n",
              "      <td>(2017)</td>\n",
              "      <td>6.6</td>\n",
              "      <td>75</td>\n",
              "      <td>156792</td>\n",
              "    </tr>\n",
              "    <tr>\n",
              "      <th>33</th>\n",
              "      <td>The Mummy</td>\n",
              "      <td>(2017)</td>\n",
              "      <td>5.5</td>\n",
              "      <td>34</td>\n",
              "      <td>154334</td>\n",
              "    </tr>\n",
              "    <tr>\n",
              "      <th>34</th>\n",
              "      <td>Call Me by Your Name</td>\n",
              "      <td>(2017)</td>\n",
              "      <td>7.9</td>\n",
              "      <td>93</td>\n",
              "      <td>153921</td>\n",
              "    </tr>\n",
              "    <tr>\n",
              "      <th>35</th>\n",
              "      <td>Atomic Blonde</td>\n",
              "      <td>(2017)</td>\n",
              "      <td>6.7</td>\n",
              "      <td>63</td>\n",
              "      <td>150397</td>\n",
              "    </tr>\n",
              "    <tr>\n",
              "      <th>36</th>\n",
              "      <td>Bright</td>\n",
              "      <td>(I) (2017)</td>\n",
              "      <td>6.4</td>\n",
              "      <td>29</td>\n",
              "      <td>147829</td>\n",
              "    </tr>\n",
              "    <tr>\n",
              "      <th>37</th>\n",
              "      <td>I, Tonya</td>\n",
              "      <td>(2017)</td>\n",
              "      <td>7.5</td>\n",
              "      <td>77</td>\n",
              "      <td>141649</td>\n",
              "    </tr>\n",
              "    <tr>\n",
              "      <th>38</th>\n",
              "      <td>Valerian and the City of a Thousand Planets</td>\n",
              "      <td>(2017)</td>\n",
              "      <td>6.5</td>\n",
              "      <td>51</td>\n",
              "      <td>139777</td>\n",
              "    </tr>\n",
              "    <tr>\n",
              "      <th>39</th>\n",
              "      <td>Baywatch</td>\n",
              "      <td>(2017)</td>\n",
              "      <td>5.6</td>\n",
              "      <td>37</td>\n",
              "      <td>137520</td>\n",
              "    </tr>\n",
              "    <tr>\n",
              "      <th>40</th>\n",
              "      <td>Darkest Hour</td>\n",
              "      <td>(2017)</td>\n",
              "      <td>7.4</td>\n",
              "      <td>75</td>\n",
              "      <td>136534</td>\n",
              "    </tr>\n",
              "    <tr>\n",
              "      <th>41</th>\n",
              "      <td>American Made</td>\n",
              "      <td>(2017)</td>\n",
              "      <td>7.2</td>\n",
              "      <td>65</td>\n",
              "      <td>131032</td>\n",
              "    </tr>\n",
              "    <tr>\n",
              "      <th>42</th>\n",
              "      <td>Transformers: The Last Knight</td>\n",
              "      <td>(2017)</td>\n",
              "      <td>5.2</td>\n",
              "      <td>27</td>\n",
              "      <td>119000</td>\n",
              "    </tr>\n",
              "    <tr>\n",
              "      <th>43</th>\n",
              "      <td>The Lego Batman Movie</td>\n",
              "      <td>(2017)</td>\n",
              "      <td>7.3</td>\n",
              "      <td>75</td>\n",
              "      <td>116427</td>\n",
              "    </tr>\n",
              "    <tr>\n",
              "      <th>44</th>\n",
              "      <td>The Disaster Artist</td>\n",
              "      <td>(2017)</td>\n",
              "      <td>7.4</td>\n",
              "      <td>76</td>\n",
              "      <td>111731</td>\n",
              "    </tr>\n",
              "  </tbody>\n",
              "</table>\n",
              "</div>"
            ],
            "text/plain": [
              "                                               movie  ...   votes\n",
              "0                                              Logan  ...  560227\n",
              "1                                       Wonder Woman  ...  487503\n",
              "2                                     Thor: Ragnarok  ...  482921\n",
              "3                     Guardians of the Galaxy Vol. 2  ...  482874\n",
              "4                                            Dunkirk  ...  466553\n",
              "5            Star Wars: Episode VIII - The Last Jedi  ...  462874\n",
              "6                             Spider-Man: Homecoming  ...  426239\n",
              "7                                            Get Out  ...  400429\n",
              "8                                  Blade Runner 2049  ...  376219\n",
              "9                                        Baby Driver  ...  363930\n",
              "10                                                It  ...  359084\n",
              "11         Three Billboards Outside Ebbing, Missouri  ...  344011\n",
              "12                                    Justice League  ...  329116\n",
              "13                                The Shape of Water  ...  308080\n",
              "14                              John Wick: Chapter 2  ...  289973\n",
              "15                                              Coco  ...  277156\n",
              "16                    Jumanji: Welcome to the Jungle  ...  242718\n",
              "17                              Beauty and the Beast  ...  238308\n",
              "18                                Kong: Skull Island  ...  237688\n",
              "19                       Kingsman: The Golden Circle  ...  230776\n",
              "20  Pirates of the Caribbean: Dead Men Tell No Tales  ...  228576\n",
              "21                                   Alien: Covenant  ...  226900\n",
              "22                    War for the Planet of the Apes  ...  201929\n",
              "23                              The Greatest Showman  ...  199649\n",
              "24                                              Life  ...  182830\n",
              "25                           The Fate of the Furious  ...  179755\n",
              "26                      Murder on the Orient Express  ...  178596\n",
              "27                                         Lady Bird  ...  177660\n",
              "28                                Ghost in the Shell  ...  176493\n",
              "29                  King Arthur: Legend of the Sword  ...  169045\n",
              "30                                        Wind River  ...  168998\n",
              "31                            The Hitman's Bodyguard  ...  161760\n",
              "32                                           Mother!  ...  156792\n",
              "33                                         The Mummy  ...  154334\n",
              "34                              Call Me by Your Name  ...  153921\n",
              "35                                     Atomic Blonde  ...  150397\n",
              "36                                            Bright  ...  147829\n",
              "37                                          I, Tonya  ...  141649\n",
              "38       Valerian and the City of a Thousand Planets  ...  139777\n",
              "39                                          Baywatch  ...  137520\n",
              "40                                      Darkest Hour  ...  136534\n",
              "41                                     American Made  ...  131032\n",
              "42                     Transformers: The Last Knight  ...  119000\n",
              "43                             The Lego Batman Movie  ...  116427\n",
              "44                               The Disaster Artist  ...  111731\n",
              "\n",
              "[45 rows x 5 columns]"
            ]
          },
          "metadata": {
            "tags": []
          },
          "execution_count": 94
        }
      ]
    },
    {
      "cell_type": "code",
      "metadata": {
        "id": "08mqXUk3qCev",
        "colab_type": "code",
        "colab": {}
      },
      "source": [
        ""
      ],
      "execution_count": 0,
      "outputs": []
    }
  ]
}